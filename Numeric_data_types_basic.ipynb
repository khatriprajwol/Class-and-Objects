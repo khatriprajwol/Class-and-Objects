{
  "nbformat": 4,
  "nbformat_minor": 0,
  "metadata": {
    "colab": {
      "provenance": [],
      "authorship_tag": "ABX9TyOOmlflk+A5y04g+BsG9ugO",
      "include_colab_link": true
    },
    "kernelspec": {
      "name": "python3",
      "display_name": "Python 3"
    },
    "language_info": {
      "name": "python"
    }
  },
  "cells": [
    {
      "cell_type": "markdown",
      "metadata": {
        "id": "view-in-github",
        "colab_type": "text"
      },
      "source": [
        "<a href=\"https://colab.research.google.com/github/khatriprajwol/Class-and-Objects/blob/main/Numeric_data_types_basic.ipynb\" target=\"_parent\"><img src=\"https://colab.research.google.com/assets/colab-badge.svg\" alt=\"Open In Colab\"/></a>"
      ]
    },
    {
      "cell_type": "markdown",
      "source": [
        "#**Numeric Data Types**"
      ],
      "metadata": {
        "id": "s989tOxDy4rs"
      }
    },
    {
      "cell_type": "markdown",
      "source": [
        "Like other programming language, In a python we do not need to specify if our data is integer or float or string. For example. "
      ],
      "metadata": {
        "id": "-mPidaimzAzy"
      }
    },
    {
      "cell_type": "code",
      "execution_count": 1,
      "metadata": {
        "colab": {
          "base_uri": "https://localhost:8080/"
        },
        "id": "xCnefAJ1y33T",
        "outputId": "fc580a30-4a05-4f1a-8c34-e96333cacd82"
      },
      "outputs": [
        {
          "output_type": "stream",
          "name": "stdout",
          "text": [
            "<class 'int'>\n"
          ]
        }
      ],
      "source": [
        "x = 9\n",
        "print(type(x))"
      ]
    },
    {
      "cell_type": "markdown",
      "source": [
        "In the above output you can see it gives me class int. That means my data type is integer. "
      ],
      "metadata": {
        "id": "CCwMaWKJzQrF"
      }
    },
    {
      "cell_type": "code",
      "source": [
        "y = 9.2\n",
        "print(type(y))"
      ],
      "metadata": {
        "colab": {
          "base_uri": "https://localhost:8080/"
        },
        "id": "CZy7JtLCzZ1M",
        "outputId": "aa3e08a3-7777-4b2f-dd8b-25b1eb64ddd4"
      },
      "execution_count": 2,
      "outputs": [
        {
          "output_type": "stream",
          "name": "stdout",
          "text": [
            "<class 'float'>\n"
          ]
        }
      ]
    },
    {
      "cell_type": "markdown",
      "source": [
        "Here without me mentioning it tells me that 9.2 is float. Also, there are some basic arithmetic we can do in a python Some of the examples are shown below. "
      ],
      "metadata": {
        "id": "yYbQFRNYzenM"
      }
    },
    {
      "cell_type": "markdown",
      "source": [
        "##Addition"
      ],
      "metadata": {
        "id": "77kdqKbIzwhZ"
      }
    },
    {
      "cell_type": "code",
      "source": [
        "print(3 +4)"
      ],
      "metadata": {
        "colab": {
          "base_uri": "https://localhost:8080/"
        },
        "id": "TdZi2f-4zyWQ",
        "outputId": "a2f683a5-6c1a-4603-e62b-10f3be7b7a44"
      },
      "execution_count": 3,
      "outputs": [
        {
          "output_type": "stream",
          "name": "stdout",
          "text": [
            "7\n"
          ]
        }
      ]
    },
    {
      "cell_type": "markdown",
      "source": [
        "##Subtraction"
      ],
      "metadata": {
        "id": "GvgO9RyKz2pE"
      }
    },
    {
      "cell_type": "code",
      "source": [
        "print(3-4)"
      ],
      "metadata": {
        "colab": {
          "base_uri": "https://localhost:8080/"
        },
        "id": "xvm4ScKFz-BD",
        "outputId": "6c640c26-da9d-4777-d454-53e672ae99f5"
      },
      "execution_count": 4,
      "outputs": [
        {
          "output_type": "stream",
          "name": "stdout",
          "text": [
            "-1\n"
          ]
        }
      ]
    },
    {
      "cell_type": "markdown",
      "source": [
        "##Multiplication "
      ],
      "metadata": {
        "id": "GVixOkYC0CtW"
      }
    },
    {
      "cell_type": "code",
      "source": [
        "print(3*4)"
      ],
      "metadata": {
        "colab": {
          "base_uri": "https://localhost:8080/"
        },
        "id": "FTEKB9Yg0Fg0",
        "outputId": "e4500504-00c4-4df8-c092-78fa6966983c"
      },
      "execution_count": 5,
      "outputs": [
        {
          "output_type": "stream",
          "name": "stdout",
          "text": [
            "12\n"
          ]
        }
      ]
    },
    {
      "cell_type": "markdown",
      "source": [
        "##Division"
      ],
      "metadata": {
        "id": "-p1EJYfR0Hpk"
      }
    },
    {
      "cell_type": "code",
      "source": [
        "print(4/3)\n",
        "print(3/4)"
      ],
      "metadata": {
        "colab": {
          "base_uri": "https://localhost:8080/"
        },
        "id": "-eVTCDl90KPl",
        "outputId": "be82a71b-dabc-4238-93af-5309b4b6bcd6"
      },
      "execution_count": 6,
      "outputs": [
        {
          "output_type": "stream",
          "name": "stdout",
          "text": [
            "1.3333333333333333\n",
            "0.75\n"
          ]
        }
      ]
    },
    {
      "cell_type": "markdown",
      "source": [
        "##Floor Division \n",
        "Does not return decimals."
      ],
      "metadata": {
        "id": "v1Z_7twm0SPt"
      }
    },
    {
      "cell_type": "code",
      "source": [
        "print(4//3) #floor division\n",
        "print(4/3) #regular division"
      ],
      "metadata": {
        "colab": {
          "base_uri": "https://localhost:8080/"
        },
        "id": "pRIo1UZH0RxD",
        "outputId": "49ede759-d8d3-4132-a126-000dbaa89554"
      },
      "execution_count": 7,
      "outputs": [
        {
          "output_type": "stream",
          "name": "stdout",
          "text": [
            "1\n",
            "1.3333333333333333\n"
          ]
        }
      ]
    },
    {
      "cell_type": "markdown",
      "source": [
        "Did you see the difference?"
      ],
      "metadata": {
        "id": "pmusMqCD0jPs"
      }
    },
    {
      "cell_type": "markdown",
      "source": [
        "##Exponent\n"
      ],
      "metadata": {
        "id": "FrkohfTa0lz0"
      }
    },
    {
      "cell_type": "code",
      "source": [
        "print(9 ** 2)"
      ],
      "metadata": {
        "colab": {
          "base_uri": "https://localhost:8080/"
        },
        "id": "71yvKICq045N",
        "outputId": "e1af6562-423b-4df4-a58c-90d5813a2bef"
      },
      "execution_count": 8,
      "outputs": [
        {
          "output_type": "stream",
          "name": "stdout",
          "text": [
            "81\n"
          ]
        }
      ]
    },
    {
      "cell_type": "markdown",
      "source": [
        "It is raised to the power of 2. It is similar to 9^2. "
      ],
      "metadata": {
        "id": "uBdPwTDd1CDl"
      }
    },
    {
      "cell_type": "markdown",
      "source": [
        "##Modulus\n",
        "\n",
        "It gives us remainder. \n",
        "\n",
        "##Where can we use it?\n",
        "We can use it to find if our number is odd or even. "
      ],
      "metadata": {
        "id": "3HvZGlnD1POS"
      }
    },
    {
      "cell_type": "code",
      "source": [
        "print(4%3)"
      ],
      "metadata": {
        "colab": {
          "base_uri": "https://localhost:8080/"
        },
        "id": "Fdd04UTr1RTY",
        "outputId": "140780a3-676a-4431-8f83-026f39c01db0"
      },
      "execution_count": 9,
      "outputs": [
        {
          "output_type": "stream",
          "name": "stdout",
          "text": [
            "1\n"
          ]
        }
      ]
    },
    {
      "cell_type": "code",
      "source": [
        "print(4%2)"
      ],
      "metadata": {
        "colab": {
          "base_uri": "https://localhost:8080/"
        },
        "id": "zUQD-KGr1hkX",
        "outputId": "bfbeac56-5dbf-4641-993a-f5a934db4e9c"
      },
      "execution_count": 10,
      "outputs": [
        {
          "output_type": "stream",
          "name": "stdout",
          "text": [
            "0\n"
          ]
        }
      ]
    },
    {
      "cell_type": "code",
      "source": [
        "print(4%4)"
      ],
      "metadata": {
        "colab": {
          "base_uri": "https://localhost:8080/"
        },
        "id": "NQWjI6-31l0q",
        "outputId": "374bcadc-cd76-4c4f-8a62-f9a4f18cddc2"
      },
      "execution_count": 11,
      "outputs": [
        {
          "output_type": "stream",
          "name": "stdout",
          "text": [
            "0\n"
          ]
        }
      ]
    },
    {
      "cell_type": "code",
      "source": [
        "print(5%4)"
      ],
      "metadata": {
        "colab": {
          "base_uri": "https://localhost:8080/"
        },
        "id": "8CkexdDh1pdg",
        "outputId": "82815f7e-71bf-485e-f866-5a8bf13c167a"
      },
      "execution_count": 12,
      "outputs": [
        {
          "output_type": "stream",
          "name": "stdout",
          "text": [
            "1\n"
          ]
        }
      ]
    },
    {
      "cell_type": "code",
      "source": [],
      "metadata": {
        "id": "yZ3Ovtts1_ip"
      },
      "execution_count": 12,
      "outputs": []
    },
    {
      "cell_type": "markdown",
      "source": [
        "In the above examples you can see a trend that if one number is odd then it returns 1. And if both of my numbers are even then it returns 0. Except for the expression like this: `**print(4%1)**`"
      ],
      "metadata": {
        "id": "LXbMwht61sYA"
      }
    },
    {
      "cell_type": "markdown",
      "source": [
        "##Incriminating Variable"
      ],
      "metadata": {
        "id": "rstg6p8w2ZZP"
      }
    },
    {
      "cell_type": "code",
      "source": [
        "x = 2\n",
        "x = x+2\n",
        "print(x)\n",
        "\n"
      ],
      "metadata": {
        "colab": {
          "base_uri": "https://localhost:8080/"
        },
        "id": "wQE-Erdh2f8E",
        "outputId": "da137789-f707-44cc-c078-51aaeb104563"
      },
      "execution_count": 13,
      "outputs": [
        {
          "output_type": "stream",
          "name": "stdout",
          "text": [
            "4\n"
          ]
        }
      ]
    },
    {
      "cell_type": "markdown",
      "source": [
        "##Different process but same result"
      ],
      "metadata": {
        "id": "BuT6kmph2_8N"
      }
    },
    {
      "cell_type": "code",
      "source": [
        "\n",
        "x = 2\n",
        "x+=2\n",
        "print(x)"
      ],
      "metadata": {
        "colab": {
          "base_uri": "https://localhost:8080/"
        },
        "id": "g6HQ1V592qfZ",
        "outputId": "5625306b-3257-4523-c0b9-8292eca62c69"
      },
      "execution_count": 14,
      "outputs": [
        {
          "output_type": "stream",
          "name": "stdout",
          "text": [
            "4\n"
          ]
        }
      ]
    },
    {
      "cell_type": "code",
      "source": [
        "x = 2\n",
        "x*=2\n",
        "print(x)"
      ],
      "metadata": {
        "colab": {
          "base_uri": "https://localhost:8080/"
        },
        "id": "nV7qPMlc3Jq1",
        "outputId": "1820747e-cdcb-48c0-e149-19a52c7c2e8f"
      },
      "execution_count": 15,
      "outputs": [
        {
          "output_type": "stream",
          "name": "stdout",
          "text": [
            "4\n"
          ]
        }
      ]
    },
    {
      "cell_type": "markdown",
      "source": [
        "##Absolute Value"
      ],
      "metadata": {
        "id": "Rv6csCRq3bNN"
      }
    },
    {
      "cell_type": "code",
      "source": [
        "print(abs(-4))"
      ],
      "metadata": {
        "colab": {
          "base_uri": "https://localhost:8080/"
        },
        "id": "GP8UB9hD3aQv",
        "outputId": "86e9d631-e96a-4d1e-a2d8-71280b04d8fa"
      },
      "execution_count": 16,
      "outputs": [
        {
          "output_type": "stream",
          "name": "stdout",
          "text": [
            "4\n"
          ]
        }
      ]
    },
    {
      "cell_type": "markdown",
      "source": [
        "##Rounding up the number\n",
        "It rounds up the decimal to nearest value."
      ],
      "metadata": {
        "id": "kfJBkq-L3lZq"
      }
    },
    {
      "cell_type": "code",
      "source": [
        "print(round(10.34))"
      ],
      "metadata": {
        "colab": {
          "base_uri": "https://localhost:8080/"
        },
        "id": "V0Exwzhn3krv",
        "outputId": "d278f5f6-54cc-40a8-9e12-53e6d3d94bad"
      },
      "execution_count": 17,
      "outputs": [
        {
          "output_type": "stream",
          "name": "stdout",
          "text": [
            "10\n"
          ]
        }
      ]
    },
    {
      "cell_type": "code",
      "source": [
        "print(round(10.75))"
      ],
      "metadata": {
        "colab": {
          "base_uri": "https://localhost:8080/"
        },
        "id": "y27Fq4E75rK7",
        "outputId": "0d84969d-af77-42e3-b71c-1ea8e0f8a69d"
      },
      "execution_count": 18,
      "outputs": [
        {
          "output_type": "stream",
          "name": "stdout",
          "text": [
            "11\n"
          ]
        }
      ]
    },
    {
      "cell_type": "markdown",
      "source": [
        "##Notice the difference in above two examples?"
      ],
      "metadata": {
        "id": "tCPZdGWB5wKh"
      }
    },
    {
      "cell_type": "markdown",
      "source": [
        "##For one decimal place"
      ],
      "metadata": {
        "id": "KhpR3XcO6GYx"
      }
    },
    {
      "cell_type": "code",
      "source": [
        "print(round(10.75,1)) # for 1 decimal place"
      ],
      "metadata": {
        "colab": {
          "base_uri": "https://localhost:8080/"
        },
        "id": "EYvlTS4A6BF-",
        "outputId": "0a55158b-04c3-469f-a9a2-3a3e4a0cb472"
      },
      "execution_count": 19,
      "outputs": [
        {
          "output_type": "stream",
          "name": "stdout",
          "text": [
            "10.8\n"
          ]
        }
      ]
    },
    {
      "cell_type": "markdown",
      "source": [
        "##For two decimal place"
      ],
      "metadata": {
        "id": "flHc3_SA6TtW"
      }
    },
    {
      "cell_type": "code",
      "source": [
        "print(round(10.75,2)) # for 1 decimal place"
      ],
      "metadata": {
        "colab": {
          "base_uri": "https://localhost:8080/"
        },
        "id": "KRv5HbEA6S6N",
        "outputId": "e5867805-dad5-4a6d-af9c-38e0e3151a63"
      },
      "execution_count": 20,
      "outputs": [
        {
          "output_type": "stream",
          "name": "stdout",
          "text": [
            "10.75\n"
          ]
        }
      ]
    },
    {
      "cell_type": "markdown",
      "source": [
        "#**Comparisons**"
      ],
      "metadata": {
        "id": "VNHDq4Ve6jRk"
      }
    },
    {
      "cell_type": "code",
      "source": [
        "x = 2\n",
        "y = 3"
      ],
      "metadata": {
        "id": "8Kq0UYDe7EhZ"
      },
      "execution_count": 21,
      "outputs": []
    },
    {
      "cell_type": "markdown",
      "source": [
        "##Equal (x == y)"
      ],
      "metadata": {
        "id": "8XkHId6W6lg5"
      }
    },
    {
      "cell_type": "code",
      "source": [
        "print( x == y)"
      ],
      "metadata": {
        "colab": {
          "base_uri": "https://localhost:8080/"
        },
        "id": "FKZ6mulU7UjU",
        "outputId": "0c71ed79-57d2-4de0-9efe-2a133755ebd2"
      },
      "execution_count": 22,
      "outputs": [
        {
          "output_type": "stream",
          "name": "stdout",
          "text": [
            "False\n"
          ]
        }
      ]
    },
    {
      "cell_type": "markdown",
      "source": [
        "It returns False because x and y are not equal. "
      ],
      "metadata": {
        "id": "ohLF1pw87pl8"
      }
    },
    {
      "cell_type": "markdown",
      "source": [
        "##Not Equal (x != y)"
      ],
      "metadata": {
        "id": "eGfi-N7v7c12"
      }
    },
    {
      "cell_type": "code",
      "source": [
        "print(x != y)"
      ],
      "metadata": {
        "colab": {
          "base_uri": "https://localhost:8080/"
        },
        "id": "nHMz8kqO7gBp",
        "outputId": "f2c42032-24de-46d9-fede-6ed452664842"
      },
      "execution_count": 23,
      "outputs": [
        {
          "output_type": "stream",
          "name": "stdout",
          "text": [
            "True\n"
          ]
        }
      ]
    },
    {
      "cell_type": "markdown",
      "source": [
        "It returns True because x and y are not equal. "
      ],
      "metadata": {
        "id": "yzNUvUyi7kfM"
      }
    },
    {
      "cell_type": "markdown",
      "source": [
        "##Greater Than (x > y)"
      ],
      "metadata": {
        "id": "5Qkk4JOS7tG8"
      }
    },
    {
      "cell_type": "code",
      "source": [
        "print(x>y)"
      ],
      "metadata": {
        "colab": {
          "base_uri": "https://localhost:8080/"
        },
        "id": "QH3Chngj7z0Y",
        "outputId": "13a0eae4-e114-49ac-985a-c5c07f167bf2"
      },
      "execution_count": 24,
      "outputs": [
        {
          "output_type": "stream",
          "name": "stdout",
          "text": [
            "False\n"
          ]
        }
      ]
    },
    {
      "cell_type": "markdown",
      "source": [
        "##Less Than (x < y)"
      ],
      "metadata": {
        "id": "QodXthNt74bn"
      }
    },
    {
      "cell_type": "code",
      "source": [
        "print(x<y)"
      ],
      "metadata": {
        "colab": {
          "base_uri": "https://localhost:8080/"
        },
        "id": "RYXRD7Zv78ow",
        "outputId": "abd6c27d-e089-4dd2-dab5-cc81619f1a4b"
      },
      "execution_count": 25,
      "outputs": [
        {
          "output_type": "stream",
          "name": "stdout",
          "text": [
            "True\n"
          ]
        }
      ]
    },
    {
      "cell_type": "markdown",
      "source": [
        "##Greater Than or Equal (x >= y)"
      ],
      "metadata": {
        "id": "V7Podsy_7_uP"
      }
    },
    {
      "cell_type": "code",
      "source": [
        "print(x >= y)"
      ],
      "metadata": {
        "colab": {
          "base_uri": "https://localhost:8080/"
        },
        "id": "Rxyuu47E8Kuz",
        "outputId": "c25a429c-6ae8-4d2e-c2fa-87c0c8e436bc"
      },
      "execution_count": 26,
      "outputs": [
        {
          "output_type": "stream",
          "name": "stdout",
          "text": [
            "False\n"
          ]
        }
      ]
    },
    {
      "cell_type": "markdown",
      "source": [
        "##Less Than or Equal (x <= y)"
      ],
      "metadata": {
        "id": "CKicdIk58HMK"
      }
    },
    {
      "cell_type": "code",
      "source": [
        "print(x <= y)"
      ],
      "metadata": {
        "colab": {
          "base_uri": "https://localhost:8080/"
        },
        "id": "G8TMR0j_8OXg",
        "outputId": "6e817353-74ff-4562-bcd2-8eccc3c31c74"
      },
      "execution_count": 27,
      "outputs": [
        {
          "output_type": "stream",
          "name": "stdout",
          "text": [
            "True\n"
          ]
        }
      ]
    },
    {
      "cell_type": "markdown",
      "source": [
        "#Variable looks like number"
      ],
      "metadata": {
        "id": "Qbm_Ps8l8Yn4"
      }
    },
    {
      "cell_type": "markdown",
      "source": [],
      "metadata": {
        "id": "nBL-RYj78bdp"
      }
    },
    {
      "cell_type": "code",
      "source": [
        "x = '200'\n",
        "y = '300'"
      ],
      "metadata": {
        "id": "9N7CAMqt8eQV"
      },
      "execution_count": 28,
      "outputs": []
    },
    {
      "cell_type": "code",
      "source": [
        "print( x + y)"
      ],
      "metadata": {
        "colab": {
          "base_uri": "https://localhost:8080/"
        },
        "id": "5MLPrFGP8kRc",
        "outputId": "0ea36d1e-f250-4d1c-96c3-1c76c285cbbf"
      },
      "execution_count": 29,
      "outputs": [
        {
          "output_type": "stream",
          "name": "stdout",
          "text": [
            "200300\n"
          ]
        }
      ]
    },
    {
      "cell_type": "markdown",
      "source": [
        "Did you notice why it did not print 500? It is because I explicitly set it as a *string* not a *number*.  "
      ],
      "metadata": {
        "id": "tmfLBygU8mqG"
      }
    },
    {
      "cell_type": "markdown",
      "source": [
        "##How to solve this issue?\n",
        "We can use casting. Here is how we can do it. "
      ],
      "metadata": {
        "id": "GbforMMn9GIC"
      }
    },
    {
      "cell_type": "code",
      "source": [
        "x = '200'\n",
        "y = '300'\n",
        "\n",
        "x = int(x) # I casted my string to integer. \n",
        "y = int(y) # I casted my string to integer. \n",
        "\n",
        "print(x + y)"
      ],
      "metadata": {
        "colab": {
          "base_uri": "https://localhost:8080/"
        },
        "id": "SSImsmex8_0I",
        "outputId": "aa732d9e-4951-4a29-c919-9d2f2e1c58f3"
      },
      "execution_count": 30,
      "outputs": [
        {
          "output_type": "stream",
          "name": "stdout",
          "text": [
            "500\n"
          ]
        }
      ]
    },
    {
      "cell_type": "markdown",
      "source": [
        "#What if my value had commas?"
      ],
      "metadata": {
        "id": "6aR6hQRp9-rz"
      }
    },
    {
      "cell_type": "code",
      "source": [
        "x = '2,000'\n",
        "y = '3,000'\n",
        "\n",
        "x = int(x) # I casted my string to integer. \n",
        "y = int(y) # I casted my string to integer. \n",
        "\n",
        "print(x + y)"
      ],
      "metadata": {
        "colab": {
          "base_uri": "https://localhost:8080/",
          "height": 235
        },
        "id": "uXzXExjO9u9F",
        "outputId": "fe766211-db98-45f9-c4e5-92097802599d"
      },
      "execution_count": 31,
      "outputs": [
        {
          "output_type": "error",
          "ename": "ValueError",
          "evalue": "ignored",
          "traceback": [
            "\u001b[0;31m---------------------------------------------------------------------------\u001b[0m",
            "\u001b[0;31mValueError\u001b[0m                                Traceback (most recent call last)",
            "\u001b[0;32m<ipython-input-31-b721e6f212db>\u001b[0m in \u001b[0;36m<module>\u001b[0;34m\u001b[0m\n\u001b[1;32m      2\u001b[0m \u001b[0my\u001b[0m \u001b[0;34m=\u001b[0m \u001b[0;34m'3,000'\u001b[0m\u001b[0;34m\u001b[0m\u001b[0;34m\u001b[0m\u001b[0m\n\u001b[1;32m      3\u001b[0m \u001b[0;34m\u001b[0m\u001b[0m\n\u001b[0;32m----> 4\u001b[0;31m \u001b[0mx\u001b[0m \u001b[0;34m=\u001b[0m \u001b[0mint\u001b[0m\u001b[0;34m(\u001b[0m\u001b[0mx\u001b[0m\u001b[0;34m)\u001b[0m \u001b[0;31m# I casted my string to integer.\u001b[0m\u001b[0;34m\u001b[0m\u001b[0;34m\u001b[0m\u001b[0m\n\u001b[0m\u001b[1;32m      5\u001b[0m \u001b[0my\u001b[0m \u001b[0;34m=\u001b[0m \u001b[0mint\u001b[0m\u001b[0;34m(\u001b[0m\u001b[0my\u001b[0m\u001b[0;34m)\u001b[0m \u001b[0;31m# I casted my string to integer.\u001b[0m\u001b[0;34m\u001b[0m\u001b[0;34m\u001b[0m\u001b[0m\n\u001b[1;32m      6\u001b[0m \u001b[0;34m\u001b[0m\u001b[0m\n",
            "\u001b[0;31mValueError\u001b[0m: invalid literal for int() with base 10: '2,000'"
          ]
        }
      ]
    },
    {
      "cell_type": "markdown",
      "source": [
        "It returned error message saying, \"invalid literal for int() with base 10: '2,000'\". The same method did not work. That is why we need to use something called data cleaning. Here is an example how we do it. "
      ],
      "metadata": {
        "id": "bvL9Ka3S-Dey"
      }
    },
    {
      "cell_type": "code",
      "source": [
        "x = '2,000'\n",
        "y = '3,000'\n",
        "\n",
        "x = '2000'\n",
        "y = '3000'\n",
        "\n",
        "x = int(x) # I casted my string to integer. \n",
        "y = int(y) # I casted my string to integer. \n",
        "\n",
        "print(x + y)"
      ],
      "metadata": {
        "id": "rzB77NmK-QFG"
      },
      "execution_count": null,
      "outputs": []
    },
    {
      "cell_type": "markdown",
      "source": [
        "#What if we have a large data set with similar case? Can we list it as one-by-one like this?\n",
        "Well, the answer is big **NO**.\n",
        "\n",
        "For the string cleaning this is one way of doing it. \n",
        "\n",
        "**https://github.com/khatriprajwol/Data-Set/blob/main/Stringcleaning.ipynb**\n",
        "\n"
      ],
      "metadata": {
        "id": "x-tckPqc-afm"
      }
    }
  ]
}