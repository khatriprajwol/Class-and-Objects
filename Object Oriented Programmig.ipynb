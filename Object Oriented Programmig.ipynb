{
 "cells": [
  {
   "cell_type": "code",
   "execution_count": 1,
   "id": "6e663269",
   "metadata": {},
   "outputs": [
    {
     "name": "stdout",
     "output_type": "stream",
     "text": [
      "Hello\n"
     ]
    }
   ],
   "source": [
    "x = \"Hello\"\n",
    "print(x)"
   ]
  },
  {
   "cell_type": "code",
   "execution_count": 2,
   "id": "1c5b7861",
   "metadata": {
    "scrolled": true
   },
   "outputs": [
    {
     "data": {
      "text/plain": [
       "'Hello'"
      ]
     },
     "execution_count": 2,
     "metadata": {},
     "output_type": "execute_result"
    }
   ],
   "source": [
    "x"
   ]
  },
  {
   "cell_type": "code",
   "execution_count": 42,
   "id": "0ea0e3c3",
   "metadata": {},
   "outputs": [
    {
     "name": "stdout",
     "output_type": "stream",
     "text": [
      "HelloHelloHelloHelloHello\n"
     ]
    }
   ],
   "source": [
    "y = str(x) * 5\n",
    "print(y)"
   ]
  },
  {
   "cell_type": "code",
   "execution_count": 8,
   "id": "4134eaf3",
   "metadata": {},
   "outputs": [
    {
     "name": "stdout",
     "output_type": "stream",
     "text": [
      "Male\n",
      "<class '__main__.Human'>\n"
     ]
    }
   ],
   "source": [
    "class Human:\n",
    "    def Pk(self):\n",
    "        print(\"Male\")\n",
    "x = Human()\n",
    "x.Pk()\n",
    "print(type(Human()))"
   ]
  },
  {
   "cell_type": "code",
   "execution_count": 37,
   "id": "b8745e3c",
   "metadata": {},
   "outputs": [
    {
     "name": "stdout",
     "output_type": "stream",
     "text": [
      "Sikha\n",
      "Indra\n",
      "Nisha\n"
     ]
    }
   ],
   "source": [
    "class Human: \n",
    "    \n",
    "    def __init__(self, name):\n",
    "        self.name = name\n",
    "        \n",
    "    def Saloo(self, a =\"Fe\"):\n",
    "        return str(a) + \"male\"\n",
    "    \n",
    "    def Pk(self):\n",
    "        print(\"Male\")\n",
    "        \n",
    "x = Human(\"Sikha\")\n",
    "y = Human(\"Indra\")\n",
    "z = Human(\"Nisha\")\n",
    "\n",
    "print(x.name)\n",
    "print(y.name)\n",
    "print(z.name)"
   ]
  },
  {
   "cell_type": "code",
   "execution_count": 44,
   "id": "daf06dd0",
   "metadata": {},
   "outputs": [
    {
     "name": "stdout",
     "output_type": "stream",
     "text": [
      "Saloo\n"
     ]
    }
   ],
   "source": [
    "class Human:\n",
    "    def __init__(self, name):\n",
    "        self.name = name\n",
    "    \n",
    "    def Saloo(self, a =\"fe\"):\n",
    "        return a+\"male\"\n",
    "    \n",
    "    def Pk(self):\n",
    "        print(\"male\")\n",
    "\n",
    "x = Human(\"Saloo\")\n",
    "\n",
    "print(x.name)"
   ]
  },
  {
   "cell_type": "code",
   "execution_count": 58,
   "id": "c678c200",
   "metadata": {},
   "outputs": [
    {
     "name": "stdout",
     "output_type": "stream",
     "text": [
      "Candy 12\n",
      "13\n"
     ]
    }
   ],
   "source": [
    "class Dog:\n",
    "    def __init__(self, name, age):\n",
    "        self.name = name\n",
    "        self.age = age\n",
    "    \n",
    "    def get_name(self):\n",
    "        return self.name\n",
    "    \n",
    "    def get_age(self):\n",
    "        return self.age\n",
    "    \n",
    "    def set_age(self, age):\n",
    "        self.age = age\n",
    "    \n",
    "d = Dog(\"Candy\", 12)\n",
    "print(d.name, d.age)\n",
    "d.set_age(13)\n",
    "print(d.get_age())"
   ]
  },
  {
   "cell_type": "code",
   "execution_count": 83,
   "id": "db5dae82",
   "metadata": {},
   "outputs": [
    {
     "name": "stdout",
     "output_type": "stream",
     "text": [
      "97.0\n",
      "False\n"
     ]
    }
   ],
   "source": [
    "#Basic for classes and objects student and course.\n",
    "\n",
    "class Student: #Student Object\n",
    "    def __init__(self, name, age, grade): #init with name, age, gender.\n",
    "        self.name =name\n",
    "        self.age =age\n",
    "        self.grade =grade #it is ranged from 0 - 100.\n",
    "        \n",
    "    def get_grade(self): #method 1 that returns the student grade.\n",
    "        return self.grade\n",
    "    \n",
    "class Course: #Course Object \n",
    "    def __init__(self, name, max_students): #init with name and max_students\n",
    "        self.name = name\n",
    "        self.max_students = max_students\n",
    "        self.students =[]\n",
    "        \n",
    "    def add_student(self, student):\n",
    "        if len(self.students) < self.max_students:\n",
    "            self.students.append(student)\n",
    "            return True\n",
    "        return False\n",
    "    \n",
    "    def get_average_grade(self): #let's get all the avg grade of all students enrolled in the course\n",
    "        value = 0\n",
    "        for student in self.students:\n",
    "            value += student.get_grade()\n",
    "        return value / len(self.students)\n",
    "    \n",
    "s1 = Student(\"Prajwol\", 25, 99) #first student\n",
    "s2 = Student(\"Salooni\", 24, 95) #second student\n",
    "s3 = Student(\"Indra\", 27, 91) #third student\n",
    "\n",
    "course = Course(\"Science\", 2) #assigning course with max student 3 that passed\n",
    "course.add_student(s1) #adding s1 and so on\n",
    "course.add_student(s2)\n",
    "course.add_student(s3)\n",
    "#print(course.students[0].name)#returns first student i.e. Prajwol. \n",
    "print(course.get_average_grade())\n",
    "print(course.add_student(s3)) #it returns false because the max student that I can add is 2.\n"
   ]
  },
  {
   "cell_type": "code",
   "execution_count": 104,
   "id": "6ba48278",
   "metadata": {},
   "outputs": [],
   "source": [
    "#**inheritance** \n",
    "\n",
    "class Cat:\n",
    "    def __init__(self, name, age):\n",
    "        self.name = name\n",
    "        self.age = age\n",
    "    \n",
    "    def speak(self):\n",
    "        print(\"Meow\")\n",
    "    \n",
    "class Dog:\n",
    "    def __init__(self, name, age):\n",
    "        self.name = name\n",
    "        self.age = age\n",
    "    \n",
    "    def speak(self):\n",
    "        print(\"Bark\")\n",
    "        "
   ]
  },
  {
   "cell_type": "code",
   "execution_count": 119,
   "id": "e576d8ea",
   "metadata": {},
   "outputs": [
    {
     "name": "stdout",
     "output_type": "stream",
     "text": [
      "I am Kale and I am 19 years old\n",
      "I am Bill and I am 34 years old and I am Brown\n",
      "Meow\n",
      "I am Candy and I am 25 years old\n",
      "Bark\n",
      "I am Nimo and I am 19 years old\n",
      "I don't know what to say\n"
     ]
    }
   ],
   "source": [
    "#removing knit method\n",
    "class Pet: #upper level class\n",
    "    def __init__(self, name, age):\n",
    "        self.name = name\n",
    "        self.age = age\n",
    "        \n",
    "    def show(self):\n",
    "        print(f\"I am {self.name} and I am {self.age} years old\")\n",
    "        \n",
    "    def speak(self):\n",
    "        print(\"I don't know what to say\")\n",
    "        \n",
    "class Cat(Pet): #Bracket Pet helps to inherit Pet class.\n",
    "    def __init__(self, name, age, color):\n",
    "        super().__init__(name,age) #inherit from super class v.imp\n",
    "        self.color = color\n",
    "    def speak(self):\n",
    "        print(\"Meow\")\n",
    "    \n",
    "    def show(self):\n",
    "        print(f\"I am {self.name} and I am {self.age} years old and I am {self.color}\")\n",
    "    \n",
    "class Dog(Pet): #Bracket Pet helps to inherit Pet class.\n",
    "    def speak(self):\n",
    "        print(\"Bark\")\n",
    "\n",
    "class Fish(Pet):\n",
    "    pass\n",
    "        \n",
    "p = Pet(\"Kale\", 19) #this is how pet class works.\n",
    "p.show()\n",
    "\n",
    "c = Cat(\"Bill\", 34, \"Brown\") #this is how cat class works.\n",
    "c.show()\n",
    "c.speak()\n",
    "\n",
    "d = Dog(\"Candy\", 25) #this is how dog class works.\n",
    "d.show()\n",
    "d.speak()\n",
    "\n",
    "f = Fish(\"Nimo\", 19)\n",
    "f.show()\n",
    "f.speak()\n",
    "\n"
   ]
  },
  {
   "cell_type": "code",
   "execution_count": 123,
   "id": "c226a171",
   "metadata": {},
   "outputs": [
    {
     "name": "stdout",
     "output_type": "stream",
     "text": [
      "1\n",
      "2\n",
      "3\n"
     ]
    }
   ],
   "source": [
    "#class attributes\n",
    "\n",
    "class Person:\n",
    "    number_of_people = 0\n",
    "    \n",
    "    def __init__(self, name):\n",
    "        self.name =name\n",
    "        Person.number_of_people += 1\n",
    "        \n",
    "p1 =Person(\"PK\")\n",
    "print(Person.number_of_people)\n",
    "\n",
    "p2 =Person(\"SU\")\n",
    "print(Person.number_of_people)\n",
    "\n",
    "p3 = Person(\"SM\")\n",
    "print(Person.number_of_people)"
   ]
  },
  {
   "cell_type": "code",
   "execution_count": 130,
   "id": "222f9fb7",
   "metadata": {},
   "outputs": [
    {
     "name": "stdout",
     "output_type": "stream",
     "text": [
      "3\n"
     ]
    }
   ],
   "source": [
    "#class methods\n",
    "\n",
    "class Person:\n",
    "    number_of_people = 0\n",
    "    \n",
    "    def __init__(self, name):\n",
    "        self.name = name\n",
    "        Person.add_person()\n",
    "        \n",
    "    @classmethod\n",
    "    def number_of_people_(cls):\n",
    "        return cls.number_of_people\n",
    "    \n",
    "    @classmethod\n",
    "    def add_person(cls):\n",
    "        cls.number_of_people += 1\n",
    "        \n",
    "        \n",
    "p1 =Person(\"PK\")\n",
    "p2 =Person(\"SU\")\n",
    "p3 = Person(\"SM\")\n",
    "print(Person.number_of_people_())"
   ]
  },
  {
   "cell_type": "code",
   "execution_count": 134,
   "id": "643db2ba",
   "metadata": {},
   "outputs": [
    {
     "name": "stdout",
     "output_type": "stream",
     "text": [
      "name\n"
     ]
    }
   ],
   "source": [
    "#static method:they do not change anything\n",
    "class Math:\n",
    "    @staticmethod\n",
    "    def add5(x):\n",
    "        return x +5\n",
    "    \n",
    "    @staticmethod\n",
    "    def add5(x):\n",
    "        return x +10\n",
    "       \n",
    "    @staticmethod\n",
    "    def pr():\n",
    "        print (\"name\")\n",
    "    \n",
    "Math.pr()"
   ]
  },
  {
   "cell_type": "code",
   "execution_count": null,
   "id": "7117632b",
   "metadata": {},
   "outputs": [],
   "source": []
  }
 ],
 "metadata": {
  "kernelspec": {
   "display_name": "Python 3 (ipykernel)",
   "language": "python",
   "name": "python3"
  },
  "language_info": {
   "codemirror_mode": {
    "name": "ipython",
    "version": 3
   },
   "file_extension": ".py",
   "mimetype": "text/x-python",
   "name": "python",
   "nbconvert_exporter": "python",
   "pygments_lexer": "ipython3",
   "version": "3.9.13"
  }
 },
 "nbformat": 4,
 "nbformat_minor": 5
}
